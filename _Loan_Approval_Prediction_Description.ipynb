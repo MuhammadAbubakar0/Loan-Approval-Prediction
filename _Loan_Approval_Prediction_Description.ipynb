{
  "nbformat": 4,
  "nbformat_minor": 0,
  "metadata": {
    "colab": {
      "provenance": []
    },
    "kernelspec": {
      "name": "python3",
      "display_name": "Python 3"
    },
    "language_info": {
      "name": "python"
    }
  },
  "cells": [
    {
      "cell_type": "code",
      "execution_count": 1,
      "metadata": {
        "colab": {
          "base_uri": "https://localhost:8080/"
        },
        "id": "A9mory04AllB",
        "outputId": "6debcd38-2457-4203-d1bd-51e821d7bd1b"
      },
      "outputs": [
        {
          "output_type": "stream",
          "name": "stdout",
          "text": [
            "--- First 5 Rows ---\n",
            "   loan_id   no_of_dependents      education  self_employed   income_annum  \\\n",
            "0        1                  2       Graduate             No        9600000   \n",
            "1        2                  0   Not Graduate            Yes        4100000   \n",
            "2        3                  3       Graduate             No        9100000   \n",
            "3        4                  3       Graduate             No        8200000   \n",
            "4        5                  5   Not Graduate            Yes        9800000   \n",
            "\n",
            "    loan_amount   loan_term   cibil_score   residential_assets_value  \\\n",
            "0      29900000          12           778                    2400000   \n",
            "1      12200000           8           417                    2700000   \n",
            "2      29700000          20           506                    7100000   \n",
            "3      30700000           8           467                   18200000   \n",
            "4      24200000          20           382                   12400000   \n",
            "\n",
            "    commercial_assets_value   luxury_assets_value   bank_asset_value  \\\n",
            "0                  17600000              22700000            8000000   \n",
            "1                   2200000               8800000            3300000   \n",
            "2                   4500000              33300000           12800000   \n",
            "3                   3300000              23300000            7900000   \n",
            "4                   8200000              29400000            5000000   \n",
            "\n",
            "   loan_status  \n",
            "0     Approved  \n",
            "1     Rejected  \n",
            "2     Rejected  \n",
            "3     Rejected  \n",
            "4     Rejected  \n",
            "\n",
            "--- Dataset Info ---\n",
            "<class 'pandas.core.frame.DataFrame'>\n",
            "RangeIndex: 4269 entries, 0 to 4268\n",
            "Data columns (total 13 columns):\n",
            " #   Column                     Non-Null Count  Dtype \n",
            "---  ------                     --------------  ----- \n",
            " 0   loan_id                    4269 non-null   int64 \n",
            " 1    no_of_dependents          4269 non-null   int64 \n",
            " 2    education                 4269 non-null   object\n",
            " 3    self_employed             4269 non-null   object\n",
            " 4    income_annum              4269 non-null   int64 \n",
            " 5    loan_amount               4269 non-null   int64 \n",
            " 6    loan_term                 4269 non-null   int64 \n",
            " 7    cibil_score               4269 non-null   int64 \n",
            " 8    residential_assets_value  4269 non-null   int64 \n",
            " 9    commercial_assets_value   4269 non-null   int64 \n",
            " 10   luxury_assets_value       4269 non-null   int64 \n",
            " 11   bank_asset_value          4269 non-null   int64 \n",
            " 12   loan_status               4269 non-null   object\n",
            "dtypes: int64(10), object(3)\n",
            "memory usage: 433.7+ KB\n"
          ]
        }
      ],
      "source": [
        "# Import necessary libraries\n",
        "import pandas as pd\n",
        "import numpy as np\n",
        "from sklearn.model_selection import train_test_split\n",
        "from sklearn.preprocessing import LabelEncoder\n",
        "from sklearn.tree import DecisionTreeClassifier\n",
        "from sklearn.linear_model import LogisticRegression\n",
        "from sklearn.metrics import classification_report, accuracy_score\n",
        "\n",
        "# Load the dataset\n",
        "# Make sure you upload the correct .csv file to Colab\n",
        "try:\n",
        "    df = pd.read_csv('loan_approval_dataset.csv') # Make sure the filename matches yours\n",
        "except FileNotFoundError:\n",
        "    print(\"Error: Dataset file not found. Please upload it to your Colab session.\")\n",
        "    exit()\n",
        "\n",
        "# Display first 5 rows and basic info\n",
        "print(\"--- First 5 Rows ---\")\n",
        "print(df.head())\n",
        "print(\"\\n--- Dataset Info ---\")\n",
        "df.info()"
      ]
    },
    {
      "cell_type": "code",
      "source": [
        "# Check for missing values\n",
        "print(\"\\n--- Missing Values Before Cleaning ---\")\n",
        "print(df.isnull().sum())\n",
        "\n",
        "# Fill missing values in categorical columns with the mode\n",
        "for col in ['Gender', 'Married', 'Dependents', 'Self_Employed', 'Credit_History']:\n",
        "    if col in df.columns:\n",
        "        df[col].fillna(df[col].mode()[0], inplace=True)\n",
        "\n",
        "# Fill missing values in numerical columns with the median\n",
        "for col in ['LoanAmount', 'Loan_Amount_Term']:\n",
        "     if col in df.columns:\n",
        "        df[col].fillna(df[col].median(), inplace=True)\n",
        "\n",
        "print(\"\\n--- Missing Values After Cleaning ---\")\n",
        "print(df.isnull().sum())"
      ],
      "metadata": {
        "colab": {
          "base_uri": "https://localhost:8080/"
        },
        "id": "mOu2SBfsBdGu",
        "outputId": "0e8fff0d-4d61-4e4a-e3ce-bed4b63599fc"
      },
      "execution_count": 2,
      "outputs": [
        {
          "output_type": "stream",
          "name": "stdout",
          "text": [
            "\n",
            "--- Missing Values Before Cleaning ---\n",
            "loan_id                      0\n",
            " no_of_dependents            0\n",
            " education                   0\n",
            " self_employed               0\n",
            " income_annum                0\n",
            " loan_amount                 0\n",
            " loan_term                   0\n",
            " cibil_score                 0\n",
            " residential_assets_value    0\n",
            " commercial_assets_value     0\n",
            " luxury_assets_value         0\n",
            " bank_asset_value            0\n",
            " loan_status                 0\n",
            "dtype: int64\n",
            "\n",
            "--- Missing Values After Cleaning ---\n",
            "loan_id                      0\n",
            " no_of_dependents            0\n",
            " education                   0\n",
            " self_employed               0\n",
            " income_annum                0\n",
            " loan_amount                 0\n",
            " loan_term                   0\n",
            " cibil_score                 0\n",
            " residential_assets_value    0\n",
            " commercial_assets_value     0\n",
            " luxury_assets_value         0\n",
            " bank_asset_value            0\n",
            " loan_status                 0\n",
            "dtype: int64\n"
          ]
        }
      ]
    },
    {
      "cell_type": "code",
      "source": [
        "# Drop the Loan_ID column as it is not needed for prediction\n",
        "if 'Loan_ID' in df.columns:\n",
        "    df = df.drop('Loan_ID', axis=1)\n",
        "\n",
        "# Encode categorical columns into numbers\n",
        "# We'll use LabelEncoder for this\n",
        "encoder = LabelEncoder()\n",
        "categorical_cols = ['Gender', 'Married', 'Dependents', 'Education', 'Self_Employed', 'Property_Area', 'Loan_Status']\n",
        "\n",
        "for col in categorical_cols:\n",
        "    if col in df.columns:\n",
        "        df[col] = encoder.fit_transform(df[col])\n",
        "\n",
        "print(\"\\n--- Data After Encoding ---\")\n",
        "print(df.head())"
      ],
      "metadata": {
        "colab": {
          "base_uri": "https://localhost:8080/"
        },
        "id": "FpH8WEM2Bjb7",
        "outputId": "61dd79ae-0ff7-4fa7-8516-548c9d48b232"
      },
      "execution_count": 3,
      "outputs": [
        {
          "output_type": "stream",
          "name": "stdout",
          "text": [
            "\n",
            "--- Data After Encoding ---\n",
            "   loan_id   no_of_dependents      education  self_employed   income_annum  \\\n",
            "0        1                  2       Graduate             No        9600000   \n",
            "1        2                  0   Not Graduate            Yes        4100000   \n",
            "2        3                  3       Graduate             No        9100000   \n",
            "3        4                  3       Graduate             No        8200000   \n",
            "4        5                  5   Not Graduate            Yes        9800000   \n",
            "\n",
            "    loan_amount   loan_term   cibil_score   residential_assets_value  \\\n",
            "0      29900000          12           778                    2400000   \n",
            "1      12200000           8           417                    2700000   \n",
            "2      29700000          20           506                    7100000   \n",
            "3      30700000           8           467                   18200000   \n",
            "4      24200000          20           382                   12400000   \n",
            "\n",
            "    commercial_assets_value   luxury_assets_value   bank_asset_value  \\\n",
            "0                  17600000              22700000            8000000   \n",
            "1                   2200000               8800000            3300000   \n",
            "2                   4500000              33300000           12800000   \n",
            "3                   3300000              23300000            7900000   \n",
            "4                   8200000              29400000            5000000   \n",
            "\n",
            "   loan_status  \n",
            "0     Approved  \n",
            "1     Rejected  \n",
            "2     Rejected  \n",
            "3     Rejected  \n",
            "4     Rejected  \n"
          ]
        }
      ]
    },
    {
      "cell_type": "code",
      "source": [
        "print(df.columns)"
      ],
      "metadata": {
        "colab": {
          "base_uri": "https://localhost:8080/"
        },
        "id": "AEE_3M1hBmlP",
        "outputId": "2b7aaaf0-da83-4b7a-bc3f-431e64cca719"
      },
      "execution_count": 5,
      "outputs": [
        {
          "output_type": "stream",
          "name": "stdout",
          "text": [
            "Index(['loan_id', ' no_of_dependents', ' education', ' self_employed',\n",
            "       ' income_annum', ' loan_amount', ' loan_term', ' cibil_score',\n",
            "       ' residential_assets_value', ' commercial_assets_value',\n",
            "       ' luxury_assets_value', ' bank_asset_value', ' loan_status'],\n",
            "      dtype='object')\n"
          ]
        }
      ]
    },
    {
      "cell_type": "code",
      "source": [
        "# ==============================================================================\n",
        "#           FINAL, ROBUST CODE FOR STEP 2: Preprocessing\n",
        "# ==============================================================================\n",
        "import pandas as pd\n",
        "from sklearn.preprocessing import LabelEncoder\n",
        "\n",
        "print(\"--- Step 2: Preprocessing Data ---\")\n",
        "\n",
        "# --- Part A: Clean Column Names ---\n",
        "# Removes extra spaces from the start/end of column names\n",
        "df.columns = df.columns.str.strip()\n",
        "print(\"Cleaned column names successfully.\")\n",
        "\n",
        "# --- Part B: Clean Text Data ---\n",
        "# Removes extra spaces from the start/end of text values inside the columns\n",
        "for col in df.columns:\n",
        "    if df[col].dtype == 'object':\n",
        "        df[col] = df[col].str.strip()\n",
        "print(\"Cleaned text data values successfully.\")\n",
        "\n",
        "# --- Part C: Handle Missing Values ---\n",
        "# Fill missing text columns with the most frequent value (mode)\n",
        "for col in ['gender', 'married', 'dependents', 'self_employed', 'credit_history']:\n",
        "    if col in df.columns:\n",
        "        df[col].fillna(df[col].mode()[0], inplace=True)\n",
        "\n",
        "# Fill missing number columns with the middle value (median)\n",
        "for col in ['loan_amount', 'loan_amount_term']:\n",
        "     if col in df.columns:\n",
        "        df[col].fillna(df[col].median(), inplace=True)\n",
        "print(\"Handled missing values successfully.\")\n",
        "\n",
        "# --- Part D: Encode All Text Columns to Numbers ---\n",
        "# Automatically finds and converts any remaining text columns to numbers\n",
        "encoder = LabelEncoder()\n",
        "for col in df.columns:\n",
        "    if df[col].dtype == 'object':\n",
        "        df[col] = encoder.fit_transform(df[col])\n",
        "print(\"Encoded all text columns to numbers successfully.\")\n",
        "\n",
        "# --- Final Check ---\n",
        "print(\"\\n--- Final Data Types (all should be numbers) ---\")\n",
        "df.info()"
      ],
      "metadata": {
        "colab": {
          "base_uri": "https://localhost:8080/"
        },
        "id": "Nl8SM4sJBp4r",
        "outputId": "a3f882c3-c7ac-4d9b-bc7d-cdf2b3f47ef2"
      },
      "execution_count": 11,
      "outputs": [
        {
          "output_type": "stream",
          "name": "stdout",
          "text": [
            "--- Step 2: Preprocessing Data ---\n",
            "Cleaned column names successfully.\n",
            "Cleaned text data values successfully.\n",
            "Handled missing values successfully.\n",
            "Encoded all text columns to numbers successfully.\n",
            "\n",
            "--- Final Data Types (all should be numbers) ---\n",
            "<class 'pandas.core.frame.DataFrame'>\n",
            "RangeIndex: 4269 entries, 0 to 4268\n",
            "Data columns (total 13 columns):\n",
            " #   Column                    Non-Null Count  Dtype\n",
            "---  ------                    --------------  -----\n",
            " 0   loan_id                   4269 non-null   int64\n",
            " 1   no_of_dependents          4269 non-null   int64\n",
            " 2   education                 4269 non-null   int64\n",
            " 3   self_employed             4269 non-null   int64\n",
            " 4   income_annum              4269 non-null   int64\n",
            " 5   loan_amount               4269 non-null   int64\n",
            " 6   loan_term                 4269 non-null   int64\n",
            " 7   cibil_score               4269 non-null   int64\n",
            " 8   residential_assets_value  4269 non-null   int64\n",
            " 9   commercial_assets_value   4269 non-null   int64\n",
            " 10  luxury_assets_value       4269 non-null   int64\n",
            " 11  bank_asset_value          4269 non-null   int64\n",
            " 12  loan_status               4269 non-null   int64\n",
            "dtypes: int64(13)\n",
            "memory usage: 433.7 KB\n"
          ]
        },
        {
          "output_type": "stream",
          "name": "stderr",
          "text": [
            "/tmp/ipython-input-4163462237.py:25: FutureWarning: A value is trying to be set on a copy of a DataFrame or Series through chained assignment using an inplace method.\n",
            "The behavior will change in pandas 3.0. This inplace method will never work because the intermediate object on which we are setting values always behaves as a copy.\n",
            "\n",
            "For example, when doing 'df[col].method(value, inplace=True)', try using 'df.method({col: value}, inplace=True)' or df[col] = df[col].method(value) instead, to perform the operation inplace on the original object.\n",
            "\n",
            "\n",
            "  df[col].fillna(df[col].mode()[0], inplace=True)\n",
            "/tmp/ipython-input-4163462237.py:30: FutureWarning: A value is trying to be set on a copy of a DataFrame or Series through chained assignment using an inplace method.\n",
            "The behavior will change in pandas 3.0. This inplace method will never work because the intermediate object on which we are setting values always behaves as a copy.\n",
            "\n",
            "For example, when doing 'df[col].method(value, inplace=True)', try using 'df.method({col: value}, inplace=True)' or df[col] = df[col].method(value) instead, to perform the operation inplace on the original object.\n",
            "\n",
            "\n",
            "  df[col].fillna(df[col].median(), inplace=True)\n"
          ]
        }
      ]
    },
    {
      "cell_type": "code",
      "source": [],
      "metadata": {
        "id": "u3RPHgR6EMZq"
      },
      "execution_count": null,
      "outputs": []
    },
    {
      "cell_type": "code",
      "source": [
        "# ==============================================================================\n",
        "#                      STEP 3: TRAIN THE MODEL\n",
        "# ==============================================================================\n",
        "from sklearn.model_selection import train_test_split\n",
        "from sklearn.tree import DecisionTreeClassifier\n",
        "\n",
        "print(\"--- Step 3: Defining Features & Splitting Data ---\")\n",
        "\n",
        "# --- Define Features (X) and Target (y) ---\n",
        "# We use 'loan_status' as the target and drop the unnecessary 'loan_id'\n",
        "X = df.drop(['loan_status', 'loan_id'], axis=1)\n",
        "y = df['loan_status']\n",
        "\n",
        "# --- Split the Data ---\n",
        "X_train, X_test, y_train, y_test = train_test_split(X, y, test_size=0.2, random_state=42)\n",
        "print(\"Data split into training and testing sets successfully.\")\n",
        "\n",
        "\n",
        "# --- Train the Decision Tree Model ---\n",
        "dt_model = DecisionTreeClassifier(random_state=42)\n",
        "dt_model.fit(X_train, y_train)\n",
        "\n",
        "print(\"\\nDecision Tree model trained successfully! ✅\")"
      ],
      "metadata": {
        "colab": {
          "base_uri": "https://localhost:8080/"
        },
        "id": "chnadyvoB4hf",
        "outputId": "14ffc900-4cee-4f81-88b3-a89b78102c27"
      },
      "execution_count": 12,
      "outputs": [
        {
          "output_type": "stream",
          "name": "stdout",
          "text": [
            "--- Step 3: Defining Features & Splitting Data ---\n",
            "Data split into training and testing sets successfully.\n",
            "\n",
            "Decision Tree model trained successfully! ✅\n"
          ]
        }
      ]
    },
    {
      "cell_type": "code",
      "source": [
        "from sklearn.metrics import classification_report\n",
        "\n",
        "print(\"\\n--- Step 4: Evaluating the Decision Tree Model ---\")\n",
        "\n",
        "# Use the trained model to make predictions on the test data\n",
        "y_pred_dt = dt_model.predict(X_test)\n",
        "\n",
        "# Print the full evaluation report\n",
        "# Note: For this dataset, 0 means 'Approved' and 1 means 'Rejected'\n",
        "print(\"Decision Tree Performance:\")\n",
        "print(classification_report(y_test, y_pred_dt, target_names=['Approved', 'Rejected']))"
      ],
      "metadata": {
        "colab": {
          "base_uri": "https://localhost:8080/"
        },
        "id": "awa6RZigDbHg",
        "outputId": "5bbe2edd-f79a-46d8-ec36-06b61316723e"
      },
      "execution_count": 13,
      "outputs": [
        {
          "output_type": "stream",
          "name": "stdout",
          "text": [
            "\n",
            "--- Step 4: Evaluating the Decision Tree Model ---\n",
            "Decision Tree Performance:\n",
            "              precision    recall  f1-score   support\n",
            "\n",
            "    Approved       0.98      0.98      0.98       536\n",
            "    Rejected       0.97      0.97      0.97       318\n",
            "\n",
            "    accuracy                           0.98       854\n",
            "   macro avg       0.98      0.98      0.98       854\n",
            "weighted avg       0.98      0.98      0.98       854\n",
            "\n"
          ]
        }
      ]
    },
    {
      "cell_type": "code",
      "source": [
        "from sklearn.linear_model import LogisticRegression\n",
        "from sklearn.metrics import classification_report\n",
        "\n",
        "print(\"\\n--- Bonus: Training a Logistic Regression Model ---\")\n",
        "\n",
        "# Create and train the model\n",
        "# max_iter=1000 helps the model find a solution without giving an error\n",
        "lr_model = LogisticRegression(max_iter=1000, random_state=42)\n",
        "lr_model.fit(X_train, y_train)\n",
        "\n",
        "# Make predictions with the new model\n",
        "y_pred_lr = lr_model.predict(X_test)\n",
        "\n",
        "# Print the evaluation report for this new model\n",
        "print(\"\\nLogistic Regression Performance:\")\n",
        "print(classification_report(y_test, y_pred_lr, target_names=['Approved', 'Rejected']))"
      ],
      "metadata": {
        "colab": {
          "base_uri": "https://localhost:8080/"
        },
        "id": "WcnZVMD9DjTX",
        "outputId": "8732d317-a4e3-44dd-c924-b641b0d60a55"
      },
      "execution_count": 14,
      "outputs": [
        {
          "output_type": "stream",
          "name": "stdout",
          "text": [
            "\n",
            "--- Bonus: Training a Logistic Regression Model ---\n",
            "\n",
            "Logistic Regression Performance:\n",
            "              precision    recall  f1-score   support\n",
            "\n",
            "    Approved       0.80      0.91      0.85       536\n",
            "    Rejected       0.80      0.61      0.69       318\n",
            "\n",
            "    accuracy                           0.80       854\n",
            "   macro avg       0.80      0.76      0.77       854\n",
            "weighted avg       0.80      0.80      0.79       854\n",
            "\n"
          ]
        }
      ]
    },
    {
      "cell_type": "code",
      "source": [
        "from imblearn.over_sampling import SMOTE\n",
        "from sklearn.linear_model import LogisticRegression\n",
        "from sklearn.metrics import classification_report\n",
        "\n",
        "print(\"\\n--- Final Bonus: Applying SMOTE to Balance Data ---\")\n",
        "\n",
        "# Create the SMOTE object\n",
        "smote = SMOTE(random_state=42)\n",
        "\n",
        "# Apply SMOTE ONLY to the training data to create a new, balanced training set\n",
        "X_train_smote, y_train_smote = smote.fit_resample(X_train, y_train)\n",
        "\n",
        "print(\"Shape of training data before SMOTE:\", y_train.value_counts())\n",
        "print(\"Shape of training data after SMOTE:\", y_train_smote.value_counts())\n",
        "\n",
        "# Train a new Logistic Regression model on the balanced data\n",
        "lr_model_smote = LogisticRegression(max_iter=1000, random_state=42)\n",
        "lr_model_smote.fit(X_train_smote, y_train_smote)\n",
        "\n",
        "# Make predictions on the original, unbalanced test set\n",
        "y_pred_smote = lr_model_smote.predict(X_test)\n",
        "\n",
        "# Print the final evaluation report\n",
        "print(\"\\n--- Performance with SMOTE-balanced Data ---\")\n",
        "print(classification_report(y_test, y_pred_smote, target_names=['Approved', 'Rejected']))"
      ],
      "metadata": {
        "colab": {
          "base_uri": "https://localhost:8080/"
        },
        "id": "N1q7ZNHpDsiW",
        "outputId": "8a49258a-3a7b-49ec-95af-7fc9e2f3574a"
      },
      "execution_count": 15,
      "outputs": [
        {
          "output_type": "stream",
          "name": "stdout",
          "text": [
            "\n",
            "--- Final Bonus: Applying SMOTE to Balance Data ---\n",
            "Shape of training data before SMOTE: loan_status\n",
            "0    2120\n",
            "1    1295\n",
            "Name: count, dtype: int64\n",
            "Shape of training data after SMOTE: loan_status\n",
            "0    2120\n",
            "1    2120\n",
            "Name: count, dtype: int64\n",
            "\n",
            "--- Performance with SMOTE-balanced Data ---\n",
            "              precision    recall  f1-score   support\n",
            "\n",
            "    Approved       0.82      0.85      0.83       536\n",
            "    Rejected       0.72      0.68      0.70       318\n",
            "\n",
            "    accuracy                           0.78       854\n",
            "   macro avg       0.77      0.76      0.77       854\n",
            "weighted avg       0.78      0.78      0.78       854\n",
            "\n"
          ]
        }
      ]
    },
    {
      "cell_type": "code",
      "source": [],
      "metadata": {
        "id": "DNnSQd5ID12w"
      },
      "execution_count": null,
      "outputs": []
    }
  ]
}